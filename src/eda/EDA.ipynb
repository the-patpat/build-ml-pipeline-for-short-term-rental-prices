{
 "cells": [
  {
   "cell_type": "markdown",
   "id": "6fe64f63",
   "metadata": {},
   "source": [
    "# EDA notebook\n",
    "This notebook performes the exploratory data analysis for the provided artifact."
   ]
  },
  {
   "cell_type": "markdown",
   "id": "66fe6c63",
   "metadata": {},
   "source": [
    "## Fetch the artifact uploaded in the download step\n",
    "The code is copied from the step description on Udacity"
   ]
  },
  {
   "cell_type": "code",
   "execution_count": 1,
   "id": "75ae7206",
   "metadata": {},
   "outputs": [
    {
     "name": "stderr",
     "output_type": "stream",
     "text": [
      "\u001b[34m\u001b[1mwandb\u001b[0m: Currently logged in as: \u001b[33mthe_patpat\u001b[0m (use `wandb login --relogin` to force relogin)\n",
      "\u001b[34m\u001b[1mwandb\u001b[0m: wandb version 0.13.4 is available!  To upgrade, please run:\n",
      "\u001b[34m\u001b[1mwandb\u001b[0m:  $ pip install wandb --upgrade\n"
     ]
    },
    {
     "data": {
      "text/html": [
       "\n",
       "                Tracking run with wandb version 0.10.31<br/>\n",
       "                Syncing run <strong style=\"color:#cdcd00\">expert-oath-5</strong> to <a href=\"https://wandb.ai\" target=\"_blank\">Weights & Biases</a> <a href=\"https://docs.wandb.com/integrations/jupyter.html\" target=\"_blank\">(Documentation)</a>.<br/>\n",
       "                Project page: <a href=\"https://wandb.ai/the_patpat/nyc_airbnb\" target=\"_blank\">https://wandb.ai/the_patpat/nyc_airbnb</a><br/>\n",
       "                Run page: <a href=\"https://wandb.ai/the_patpat/nyc_airbnb/runs/3vqrxi9q\" target=\"_blank\">https://wandb.ai/the_patpat/nyc_airbnb/runs/3vqrxi9q</a><br/>\n",
       "                Run data is saved locally in <code>/home/pat/build-ml-pipeline-for-short-term-rental-prices/src/eda/wandb/run-20221020_103949-3vqrxi9q</code><br/><br/>\n",
       "            "
      ],
      "text/plain": [
       "<IPython.core.display.HTML object>"
      ]
     },
     "metadata": {},
     "output_type": "display_data"
    }
   ],
   "source": [
    " import wandb\n",
    " import pandas as pd\n",
    "\n",
    " run = wandb.init(project=\"nyc_airbnb\", group=\"eda\", save_code=True)\n",
    " local_path = wandb.use_artifact(\"sample.csv:latest\").file()\n",
    " df = pd.read_csv(local_path)"
   ]
  },
  {
   "cell_type": "markdown",
   "id": "e0b901a5",
   "metadata": {},
   "source": [
    "## Carry out initial EDA\n",
    "We use pandas-profiling as indicated by the project description on the Udacity platform."
   ]
  },
  {
   "cell_type": "code",
   "execution_count": 2,
   "id": "539ce494",
   "metadata": {},
   "outputs": [
    {
     "data": {
      "application/vnd.jupyter.widget-view+json": {
       "model_id": "4462ed7e8d0549d3a2fe09fc3bb0ca1e",
       "version_major": 2,
       "version_minor": 0
      },
      "text/plain": [
       "Summarize dataset:   0%|          | 0/29 [00:00<?, ?it/s]"
      ]
     },
     "metadata": {},
     "output_type": "display_data"
    },
    {
     "data": {
      "application/vnd.jupyter.widget-view+json": {
       "model_id": "a0c90d6615f04844aa5f432b99f0ba46",
       "version_major": 2,
       "version_minor": 0
      },
      "text/plain": [
       "Generate report structure:   0%|          | 0/1 [00:00<?, ?it/s]"
      ]
     },
     "metadata": {},
     "output_type": "display_data"
    },
    {
     "data": {
      "application/vnd.jupyter.widget-view+json": {
       "model_id": "",
       "version_major": 2,
       "version_minor": 0
      },
      "text/plain": [
       "Render widgets:   0%|          | 0/1 [00:00<?, ?it/s]"
      ]
     },
     "metadata": {},
     "output_type": "display_data"
    },
    {
     "data": {
      "application/vnd.jupyter.widget-view+json": {
       "model_id": "3d16e2ece08b4c10b474c576dd896b5a",
       "version_major": 2,
       "version_minor": 0
      },
      "text/plain": [
       "VBox(children=(Tab(children=(Tab(children=(GridBox(children=(VBox(children=(GridspecLayout(children=(HTML(valu…"
      ]
     },
     "metadata": {},
     "output_type": "display_data"
    }
   ],
   "source": [
    "import pandas_profiling\n",
    "\n",
    "profile = pandas_profiling.ProfileReport(df)\n",
    "profile.to_widgets()"
   ]
  },
  {
   "cell_type": "markdown",
   "id": "08eda43e",
   "metadata": {},
   "source": [
    "## Summary of the report\n",
    "We can see that there are some warnings. Most of them are about the high cardinality of variables, e.g. that name/host_name have a high cardinality. Name is the name of the accomodation and therefore woud probably not constitute a good feature as it is quite unique. The name of the host probably has also no influence on the price - as it's only the first name and therefore not really a unique/usable feature.\n",
    "\n",
    "It is also observable that the range of prices is 0 - 10000. Entries with 0 are probably corrupted as no one gives out an Airbnb for free. The median value is at 105 - we need to analyse the high values. According to the Udacity text, the stakeholder wishes to consider locations with a price range from 10 to 350 $ a night.\n",
    "\n",
    "Furthermore, the date in `last_review` is stored as a string and needs to be transformed to a date."
   ]
  },
  {
   "cell_type": "markdown",
   "id": "aa5725ab",
   "metadata": {},
   "source": [
    "## Initial cleaning\n",
    "\n",
    "Fixing the data according to the udacity code:\n",
    "\n",
    "(null values will be imputed later on in the inference pipeline)"
   ]
  },
  {
   "cell_type": "code",
   "execution_count": 3,
   "id": "ca5647ff",
   "metadata": {},
   "outputs": [],
   "source": [
    "# Drop outliers\n",
    "min_price = 10\n",
    "max_price = 350\n",
    "idx = df['price'].between(min_price, max_price)\n",
    "df = df[idx].copy()\n",
    "# Convert last_review to datetime\n",
    "df['last_review'] = pd.to_datetime(df['last_review'])"
   ]
  },
  {
   "cell_type": "markdown",
   "id": "0f3602e7",
   "metadata": {},
   "source": [
    "## New profile report"
   ]
  },
  {
   "cell_type": "code",
   "execution_count": 5,
   "id": "f5b04c7a",
   "metadata": {},
   "outputs": [
    {
     "data": {
      "application/vnd.jupyter.widget-view+json": {
       "model_id": "ad771b5771234477ba4fb2ef4e938c03",
       "version_major": 2,
       "version_minor": 0
      },
      "text/plain": [
       "Summarize dataset:   0%|          | 0/30 [00:00<?, ?it/s]"
      ]
     },
     "metadata": {},
     "output_type": "display_data"
    },
    {
     "data": {
      "application/vnd.jupyter.widget-view+json": {
       "model_id": "4c42a6de1ff54595b32d4c3058b84549",
       "version_major": 2,
       "version_minor": 0
      },
      "text/plain": [
       "Generate report structure:   0%|          | 0/1 [00:00<?, ?it/s]"
      ]
     },
     "metadata": {},
     "output_type": "display_data"
    },
    {
     "data": {
      "application/vnd.jupyter.widget-view+json": {
       "model_id": "",
       "version_major": 2,
       "version_minor": 0
      },
      "text/plain": [
       "Render widgets:   0%|          | 0/1 [00:00<?, ?it/s]"
      ]
     },
     "metadata": {},
     "output_type": "display_data"
    },
    {
     "data": {
      "application/vnd.jupyter.widget-view+json": {
       "model_id": "d7a599f7a12e4699a6070ee80e0ba141",
       "version_major": 2,
       "version_minor": 0
      },
      "text/plain": [
       "VBox(children=(Tab(children=(Tab(children=(GridBox(children=(VBox(children=(GridspecLayout(children=(HTML(valu…"
      ]
     },
     "metadata": {},
     "output_type": "display_data"
    }
   ],
   "source": [
    "profile_post_cleaning = pandas_profiling.ProfileReport(df)\n",
    "profile_post_cleaning.to_widgets()"
   ]
  },
  {
   "cell_type": "code",
   "execution_count": null,
   "id": "5c7a3a6b",
   "metadata": {},
   "outputs": [
    {
     "data": {
      "text/html": [
       "<br/>Waiting for W&B process to finish, PID 12182<br/>Program ended successfully."
      ],
      "text/plain": [
       "<IPython.core.display.HTML object>"
      ]
     },
     "metadata": {},
     "output_type": "display_data"
    }
   ],
   "source": [
    "run.finish()"
   ]
  }
 ],
 "metadata": {
  "kernelspec": {
   "display_name": "Python 3 (ipykernel)",
   "language": "python",
   "name": "python3"
  },
  "language_info": {
   "codemirror_mode": {
    "name": "ipython",
    "version": 3
   },
   "file_extension": ".py",
   "mimetype": "text/x-python",
   "name": "python",
   "nbconvert_exporter": "python",
   "pygments_lexer": "ipython3",
   "version": "3.8.13"
  }
 },
 "nbformat": 4,
 "nbformat_minor": 5
}
